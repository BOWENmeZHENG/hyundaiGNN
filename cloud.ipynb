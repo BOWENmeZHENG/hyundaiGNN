{
  "nbformat": 4,
  "nbformat_minor": 0,
  "metadata": {
    "colab": {
      "provenance": [],
      "gpuType": "T4"
    },
    "kernelspec": {
      "name": "python3",
      "display_name": "Python 3"
    },
    "language_info": {
      "name": "python"
    },
    "accelerator": "GPU"
  },
  "cells": [
    {
      "cell_type": "code",
      "execution_count": 1,
      "metadata": {
        "id": "tGbJfP6ZUvw7",
        "collapsed": true,
        "colab": {
          "base_uri": "https://localhost:8080/"
        },
        "outputId": "99c9868b-365d-4cdf-ce53-944cd4a8962b"
      },
      "outputs": [
        {
          "output_type": "stream",
          "name": "stdout",
          "text": [
            "\u001b[?25l     \u001b[90m━━━━━━━━━━━━━━━━━━━━━━━━━━━━━━━━━━━━━━━━\u001b[0m \u001b[32m0.0/108.0 kB\u001b[0m \u001b[31m?\u001b[0m eta \u001b[36m-:--:--\u001b[0m\r\u001b[2K     \u001b[90m━━━━━━━━━━━━━━━━━━━━━━━━━━━━━━━━━━━━━━━━\u001b[0m \u001b[32m108.0/108.0 kB\u001b[0m \u001b[31m5.2 MB/s\u001b[0m eta \u001b[36m0:00:00\u001b[0m\n",
            "\u001b[?25h  Preparing metadata (setup.py) ... \u001b[?25l\u001b[?25hdone\n",
            "  Building wheel for torch-scatter (setup.py) ... \u001b[?25l\u001b[?25hdone\n",
            "Collecting torch_geometric\n",
            "  Downloading torch_geometric-2.6.1-py3-none-any.whl.metadata (63 kB)\n",
            "\u001b[2K     \u001b[90m━━━━━━━━━━━━━━━━━━━━━━━━━━━━━━━━━━━━━━━━\u001b[0m \u001b[32m63.1/63.1 kB\u001b[0m \u001b[31m3.5 MB/s\u001b[0m eta \u001b[36m0:00:00\u001b[0m\n",
            "\u001b[?25hRequirement already satisfied: aiohttp in /usr/local/lib/python3.10/dist-packages (from torch_geometric) (3.11.10)\n",
            "Requirement already satisfied: fsspec in /usr/local/lib/python3.10/dist-packages (from torch_geometric) (2024.10.0)\n",
            "Requirement already satisfied: jinja2 in /usr/local/lib/python3.10/dist-packages (from torch_geometric) (3.1.4)\n",
            "Requirement already satisfied: numpy in /usr/local/lib/python3.10/dist-packages (from torch_geometric) (1.26.4)\n",
            "Requirement already satisfied: psutil>=5.8.0 in /usr/local/lib/python3.10/dist-packages (from torch_geometric) (5.9.5)\n",
            "Requirement already satisfied: pyparsing in /usr/local/lib/python3.10/dist-packages (from torch_geometric) (3.2.0)\n",
            "Requirement already satisfied: requests in /usr/local/lib/python3.10/dist-packages (from torch_geometric) (2.32.3)\n",
            "Requirement already satisfied: tqdm in /usr/local/lib/python3.10/dist-packages (from torch_geometric) (4.67.1)\n",
            "Requirement already satisfied: aiohappyeyeballs>=2.3.0 in /usr/local/lib/python3.10/dist-packages (from aiohttp->torch_geometric) (2.4.4)\n",
            "Requirement already satisfied: aiosignal>=1.1.2 in /usr/local/lib/python3.10/dist-packages (from aiohttp->torch_geometric) (1.3.2)\n",
            "Requirement already satisfied: async-timeout<6.0,>=4.0 in /usr/local/lib/python3.10/dist-packages (from aiohttp->torch_geometric) (4.0.3)\n",
            "Requirement already satisfied: attrs>=17.3.0 in /usr/local/lib/python3.10/dist-packages (from aiohttp->torch_geometric) (24.3.0)\n",
            "Requirement already satisfied: frozenlist>=1.1.1 in /usr/local/lib/python3.10/dist-packages (from aiohttp->torch_geometric) (1.5.0)\n",
            "Requirement already satisfied: multidict<7.0,>=4.5 in /usr/local/lib/python3.10/dist-packages (from aiohttp->torch_geometric) (6.1.0)\n",
            "Requirement already satisfied: propcache>=0.2.0 in /usr/local/lib/python3.10/dist-packages (from aiohttp->torch_geometric) (0.2.1)\n",
            "Requirement already satisfied: yarl<2.0,>=1.17.0 in /usr/local/lib/python3.10/dist-packages (from aiohttp->torch_geometric) (1.18.3)\n",
            "Requirement already satisfied: MarkupSafe>=2.0 in /usr/local/lib/python3.10/dist-packages (from jinja2->torch_geometric) (3.0.2)\n",
            "Requirement already satisfied: charset-normalizer<4,>=2 in /usr/local/lib/python3.10/dist-packages (from requests->torch_geometric) (3.4.0)\n",
            "Requirement already satisfied: idna<4,>=2.5 in /usr/local/lib/python3.10/dist-packages (from requests->torch_geometric) (3.10)\n",
            "Requirement already satisfied: urllib3<3,>=1.21.1 in /usr/local/lib/python3.10/dist-packages (from requests->torch_geometric) (2.2.3)\n",
            "Requirement already satisfied: certifi>=2017.4.17 in /usr/local/lib/python3.10/dist-packages (from requests->torch_geometric) (2024.12.14)\n",
            "Requirement already satisfied: typing-extensions>=4.1.0 in /usr/local/lib/python3.10/dist-packages (from multidict<7.0,>=4.5->aiohttp->torch_geometric) (4.12.2)\n",
            "Downloading torch_geometric-2.6.1-py3-none-any.whl (1.1 MB)\n",
            "\u001b[2K   \u001b[90m━━━━━━━━━━━━━━━━━━━━━━━━━━━━━━━━━━━━━━━━\u001b[0m \u001b[32m1.1/1.1 MB\u001b[0m \u001b[31m30.8 MB/s\u001b[0m eta \u001b[36m0:00:00\u001b[0m\n",
            "\u001b[?25hInstalling collected packages: torch_geometric\n",
            "Successfully installed torch_geometric-2.6.1\n"
          ]
        }
      ],
      "source": [
        "from google.cloud import storage\n",
        "import os\n",
        "!pip install -q torch-scatter -f https://data.pyg.org/whl/torch-${TORCH}.html\n",
        "!pip install torch_geometric"
      ]
    },
    {
      "cell_type": "code",
      "source": [
        "def download_blobs(bucket_name, blob_names, destination_folder):\n",
        "    # Initialize the GCS client\n",
        "    client = storage.Client()\n",
        "    bucket = client.bucket(bucket_name)\n",
        "    # Ensure the destination folder exists\n",
        "    os.makedirs(destination_folder, exist_ok=True)\n",
        "    # Download each blob\n",
        "    for blob_name in blob_names:\n",
        "        blob = bucket.blob(blob_name)\n",
        "        destination_file = os.path.join(destination_folder, os.path.basename(blob_name))\n",
        "        blob.download_to_filename(destination_file)\n",
        "        print(f\"Downloaded {blob_name} to {destination_file}\")"
      ],
      "metadata": {
        "id": "Lomzo77ddZCz"
      },
      "execution_count": 2,
      "outputs": []
    },
    {
      "cell_type": "code",
      "source": [
        "bucket_name = \"hyundai-code-data\"\n",
        "# blob_names = [\"code/run.py\"]\n",
        "blob_names = [\"code/dataset5_135samples_withload_outerindex_107_28.pt\",\n",
        "              \"code/net.py\", \"code/run.py\", \"code/trainer.py\", \"code/utils.py\"]\n",
        "destination_folder = \"/content/\"  # Local folder to save the files\n",
        "\n",
        "download_blobs(bucket_name, blob_names, destination_folder)"
      ],
      "metadata": {
        "id": "sE_m-oszeHSV",
        "collapsed": true,
        "colab": {
          "base_uri": "https://localhost:8080/"
        },
        "outputId": "b0bc862d-a6e4-437c-ff3f-d2b2c46d3c01"
      },
      "execution_count": 3,
      "outputs": [
        {
          "output_type": "stream",
          "name": "stdout",
          "text": [
            "Downloaded code/dataset5_135samples_withload_outerindex_107_28.pt to /content/dataset5_135samples_withload_outerindex_107_28.pt\n",
            "Downloaded code/net.py to /content/net.py\n",
            "Downloaded code/run.py to /content/run.py\n",
            "Downloaded code/trainer.py to /content/trainer.py\n",
            "Downloaded code/utils.py to /content/utils.py\n"
          ]
        }
      ]
    },
    {
      "cell_type": "code",
      "source": [
        "!python /content/run.py"
      ],
      "metadata": {
        "colab": {
          "base_uri": "https://localhost:8080/"
        },
        "id": "xFluPGECegTv",
        "outputId": "cf46e9e7-670e-4f16-9fb9-696aca3601c1"
      },
      "execution_count": null,
      "outputs": [
        {
          "output_type": "stream",
          "name": "stdout",
          "text": [
            "2.5.1+cu121\n",
            "cuda\n",
            "Training:   0% 0/200 [00:00<?, ?Epochs/s]\n",
            "0.2711221320288522\n",
            "train loss: 0.93  test loss: 0.85\n",
            "Training:   0% 1/200 [00:55<3:04:29, 55.62s/Epochs]\n",
            "0.26995516249111723\n",
            "train loss: 0.85  test loss: 0.85\n",
            "Training:   1% 2/200 [01:51<3:04:12, 55.82s/Epochs]\n",
            "0.32896837166377474\n",
            "train loss: 0.84  test loss: 0.82\n",
            "Training:   2% 3/200 [02:48<3:05:18, 56.44s/Epochs]\n",
            "0.34065722141947063\n",
            "train loss: 0.83  test loss: 0.81\n",
            "Training:   2% 4/200 [03:47<3:06:55, 57.22s/Epochs]\n",
            "0.3684494878564562\n",
            "train loss: 0.81  test loss: 0.79\n",
            "Training:   2% 5/200 [04:46<3:08:04, 57.87s/Epochs]"
          ]
        }
      ]
    },
    {
      "cell_type": "code",
      "source": [
        "# %cd checkpoint/"
      ],
      "metadata": {
        "id": "VOrU8P1UeUyc"
      },
      "execution_count": 5,
      "outputs": []
    },
    {
      "cell_type": "code",
      "source": [
        "# %ls"
      ],
      "metadata": {
        "id": "TusaL0QbPVMd"
      },
      "execution_count": 6,
      "outputs": []
    },
    {
      "cell_type": "code",
      "source": [
        "# from google.colab import files\n",
        "# files.download('/content/checkpoint/s_42_nl_25_bs_1_hd_32_ep_200_wd_0.0005_lr_0.001_shuff_True_tr_107_te_28_time_2025-Feb-06-18-56-12.csv')"
      ],
      "metadata": {
        "id": "Z7DIbedGPFah"
      },
      "execution_count": 7,
      "outputs": []
    }
  ]
}